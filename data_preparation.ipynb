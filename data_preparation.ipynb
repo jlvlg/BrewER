{
 "cells": [
  {
   "cell_type": "code",
   "execution_count": 1,
   "id": "5a100ff8",
   "metadata": {},
   "outputs": [],
   "source": [
    "import os\n",
    "import pandas as pd\n",
    "import pickle as pkl\n",
    "import pandas as pd"
   ]
  },
  {
   "cell_type": "code",
   "execution_count": 2,
   "id": "b812dbcb",
   "metadata": {},
   "outputs": [],
   "source": [
    "pd.set_option(\"display.max_columns\", None)"
   ]
  },
  {
   "cell_type": "code",
   "execution_count": 3,
   "id": "83ac8181",
   "metadata": {},
   "outputs": [],
   "source": [
    "case = \"citations\"\n",
    "l_ds_name = \"dblp\"\n",
    "r_ds_name = \"google_scholar\"\n",
    "\n",
    "\n",
    "raw_ds_path = f\"datasets/{case}/raw_data/datasets/\"\n",
    "raw_lab_path = f\"datasets/{case}/raw_data/labeled_data.csv\"\n",
    "raw_cand_path = f\"datasets/{case}/raw_data/candset.csv\"\n",
    "cand_path = f\"datasets/{case}/candidates.pkl\"\n",
    "ds_path = f\"datasets/{case}/dataset.csv\"\n",
    "match_path = f\"datasets/{case}/matches.csv\"\n",
    "lab_path = f\"datasets/{case}/labels.csv\""
   ]
  },
  {
   "cell_type": "code",
   "execution_count": 4,
   "id": "e961ff2c",
   "metadata": {},
   "outputs": [],
   "source": [
    "l_ds = pd.read_csv(raw_ds_path + l_ds_name + \".csv\", encoding=\"latin\")\n",
    "l_ds_len = len(l_ds)\n",
    "l_ds[\"_id\"] = l_ds.index\n",
    "l_ds[\"_id\"] = l_ds[\"_id\"].apply(\n",
    "    lambda x: l_ds_name + \"_\" + str(x).zfill(len(str(l_ds_len)))\n",
    ")\n",
    "old_ids = list(l_ds[\"ID\"])\n",
    "new_ids = list(l_ds[\"_id\"])\n",
    "l_map = {old_ids[i]: new_ids[i] for i in range(0, len(l_ds))}\n",
    "l_ds = l_ds.drop(columns=[\"ID\"])\n",
    "l_ds.columns = l_ds.columns.str.lower()\n",
    "\n",
    "# Load the second dataset and prepare its identifiers\n",
    "r_ds = pd.read_csv(raw_ds_path + r_ds_name + \".csv\", encoding=\"latin\")\n",
    "r_ds_len = len(r_ds)\n",
    "r_ds[\"_id\"] = r_ds.index\n",
    "r_ds[\"_id\"] = r_ds[\"_id\"].apply(\n",
    "    lambda x: r_ds_name + \"_\" + str(x).zfill(len(str(r_ds_len)))\n",
    ")\n",
    "old_ids = list(r_ds[\"ID\"])\n",
    "new_ids = list(r_ds[\"_id\"])\n",
    "r_map = {old_ids[i]: new_ids[i] for i in range(0, len(r_ds))}\n",
    "r_ds = r_ds.drop(columns=[\"ID\"])\n",
    "r_ds.columns = r_ds.columns.str.lower()\n",
    "\n",
    "# Append the two datasets\n",
    "ds = pd.concat([l_ds, r_ds], ignore_index=True, join=\"inner\").set_index(\"_id\")\n",
    "\n",
    "# # Preprocess numeric columns\n",
    "ds[\"year\"] = pd.to_numeric(ds[\"year\"], errors=\"coerce\")\n",
    "ds[\"number\"] = pd.to_numeric(ds[\"number\"], errors=\"coerce\")\n",
    "ds[\"volume\"] = pd.to_numeric(ds[\"volume\"], errors=\"coerce\")\n",
    "\n",
    "# Save the obtained dataset\n",
    "ds.to_csv(ds_path)"
   ]
  },
  {
   "cell_type": "code",
   "execution_count": 5,
   "id": "0678a44d",
   "metadata": {},
   "outputs": [],
   "source": [
    "# Load the labeled data\n",
    "lab = pd.read_csv(raw_lab_path, comment=\"#\")\n",
    "\n",
    "# Rename identifier columns\n",
    "lab = lab.rename(columns={\"ltable.ID\": \"l_id\", \"rtable.ID\": \"r_id\"})\n",
    "\n",
    "# Filter out useless columns and map the identifiers\n",
    "l_old_ids = list(lab[\"l_id\"])\n",
    "r_old_ids = list(lab[\"r_id\"])\n",
    "labels = list(lab[\"is_match\"])\n",
    "new_ids = [\n",
    "    (l_map[l_old_ids[i]], r_map[r_old_ids[i]], labels[i])\n",
    "    for i in range(0, len(lab))\n",
    "]\n",
    "lab = pd.DataFrame(new_ids, columns=[\"l_id\", \"r_id\", \"label\"])\n",
    "lab = lab.reset_index(drop=True)\n",
    "\n",
    "# Keep only the matches and filter out the labels\n",
    "gt = lab[lab[\"label\"] == 1][[\"l_id\", \"r_id\"]]\n",
    "gt = gt.reset_index(drop=True)\n",
    "\n",
    "# Save the obtained matches\n",
    "gt.to_csv(match_path, index=False)"
   ]
  },
  {
   "cell_type": "code",
   "execution_count": 6,
   "id": "37e27a8a",
   "metadata": {},
   "outputs": [],
   "source": [
    "candset = pd.read_csv(raw_cand_path, comment=\"#\")\n",
    "\n",
    "candidate_pairs = candset[['ltable.ID', 'rtable.ID']]\n",
    "\n",
    "pairs = list(\n",
    "    zip(candidate_pairs['ltable.ID'].map(l_map), candidate_pairs['rtable.ID'].map(r_map))\n",
    ")\n",
    "\n",
    "with open(cand_path, 'wb') as file:\n",
    "    pkl.dump(pairs, file)"
   ]
  },
  {
   "cell_type": "code",
   "execution_count": 7,
   "id": "4689edbb",
   "metadata": {},
   "outputs": [
    {
     "name": "stdout",
     "output_type": "stream",
     "text": [
      "('dblp_0000', 'google_scholar_0009')\n"
     ]
    }
   ],
   "source": [
    "print(pairs[0])"
   ]
  }
 ],
 "metadata": {
  "kernelspec": {
   "display_name": "Python 3",
   "language": "python",
   "name": "python3"
  },
  "language_info": {
   "codemirror_mode": {
    "name": "ipython",
    "version": 3
   },
   "file_extension": ".py",
   "mimetype": "text/x-python",
   "name": "python",
   "nbconvert_exporter": "python",
   "pygments_lexer": "ipython3",
   "version": "3.13.5"
  }
 },
 "nbformat": 4,
 "nbformat_minor": 5
}
